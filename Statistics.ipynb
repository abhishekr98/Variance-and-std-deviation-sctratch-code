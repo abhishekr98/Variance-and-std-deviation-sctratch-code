{
 "cells": [
  {
   "cell_type": "code",
   "execution_count": 2,
   "id": "a80658fe",
   "metadata": {},
   "outputs": [],
   "source": [
    "import numpy as np\n",
    "import matplotlib.pyplot as plt\n",
    "import pandas as pd\n",
    "import statistics\n",
    "from scipy import stats"
   ]
  },
  {
   "cell_type": "code",
   "execution_count": 3,
   "id": "b1d0cab8",
   "metadata": {},
   "outputs": [
    {
     "data": {
      "text/html": [
       "<div>\n",
       "<style scoped>\n",
       "    .dataframe tbody tr th:only-of-type {\n",
       "        vertical-align: middle;\n",
       "    }\n",
       "\n",
       "    .dataframe tbody tr th {\n",
       "        vertical-align: top;\n",
       "    }\n",
       "\n",
       "    .dataframe thead th {\n",
       "        text-align: right;\n",
       "    }\n",
       "</style>\n",
       "<table border=\"1\" class=\"dataframe\">\n",
       "  <thead>\n",
       "    <tr style=\"text-align: right;\">\n",
       "      <th></th>\n",
       "      <th>Income</th>\n",
       "      <th>Lot_Size</th>\n",
       "      <th>Response</th>\n",
       "    </tr>\n",
       "  </thead>\n",
       "  <tbody>\n",
       "    <tr>\n",
       "      <th>0</th>\n",
       "      <td>34</td>\n",
       "      <td>26</td>\n",
       "      <td>Not Bought</td>\n",
       "    </tr>\n",
       "    <tr>\n",
       "      <th>1</th>\n",
       "      <td>34</td>\n",
       "      <td>40</td>\n",
       "      <td>Not Bought</td>\n",
       "    </tr>\n",
       "    <tr>\n",
       "      <th>2</th>\n",
       "      <td>34</td>\n",
       "      <td>46</td>\n",
       "      <td>Not Bought</td>\n",
       "    </tr>\n",
       "    <tr>\n",
       "      <th>3</th>\n",
       "      <td>34</td>\n",
       "      <td>48</td>\n",
       "      <td>Not Bought</td>\n",
       "    </tr>\n",
       "    <tr>\n",
       "      <th>4</th>\n",
       "      <td>34</td>\n",
       "      <td>53</td>\n",
       "      <td>Not Bought</td>\n",
       "    </tr>\n",
       "    <tr>\n",
       "      <th>...</th>\n",
       "      <td>...</td>\n",
       "      <td>...</td>\n",
       "      <td>...</td>\n",
       "    </tr>\n",
       "    <tr>\n",
       "      <th>175</th>\n",
       "      <td>86</td>\n",
       "      <td>121</td>\n",
       "      <td>Bought</td>\n",
       "    </tr>\n",
       "    <tr>\n",
       "      <th>176</th>\n",
       "      <td>87</td>\n",
       "      <td>109</td>\n",
       "      <td>Bought</td>\n",
       "    </tr>\n",
       "    <tr>\n",
       "      <th>177</th>\n",
       "      <td>88</td>\n",
       "      <td>119</td>\n",
       "      <td>Bought</td>\n",
       "    </tr>\n",
       "    <tr>\n",
       "      <th>178</th>\n",
       "      <td>89</td>\n",
       "      <td>110</td>\n",
       "      <td>Bought</td>\n",
       "    </tr>\n",
       "    <tr>\n",
       "      <th>179</th>\n",
       "      <td>89</td>\n",
       "      <td>124</td>\n",
       "      <td>Bought</td>\n",
       "    </tr>\n",
       "  </tbody>\n",
       "</table>\n",
       "<p>180 rows × 3 columns</p>\n",
       "</div>"
      ],
      "text/plain": [
       "     Income  Lot_Size    Response\n",
       "0        34        26  Not Bought\n",
       "1        34        40  Not Bought\n",
       "2        34        46  Not Bought\n",
       "3        34        48  Not Bought\n",
       "4        34        53  Not Bought\n",
       "..      ...       ...         ...\n",
       "175      86       121      Bought\n",
       "176      87       109      Bought\n",
       "177      88       119      Bought\n",
       "178      89       110      Bought\n",
       "179      89       124      Bought\n",
       "\n",
       "[180 rows x 3 columns]"
      ]
     },
     "execution_count": 3,
     "metadata": {},
     "output_type": "execute_result"
    }
   ],
   "source": [
    "RidingMowers = pd.read_csv(\"F:/Python DS/db/RidingMowers.csv\")\n",
    "RidingMowers"
   ]
  },
  {
   "cell_type": "code",
   "execution_count": 4,
   "id": "edb79bd6",
   "metadata": {},
   "outputs": [],
   "source": [
    "a = RidingMowers['Lot_Size']"
   ]
  },
  {
   "cell_type": "code",
   "execution_count": 5,
   "id": "edccdb61",
   "metadata": {},
   "outputs": [],
   "source": [
    "def mean(mean):\n",
    "    mean = np.mean(a)\n",
    "    print(\"mean = \", +mean)"
   ]
  },
  {
   "cell_type": "code",
   "execution_count": 6,
   "id": "94d98ec3",
   "metadata": {},
   "outputs": [],
   "source": [
    "def median(median):\n",
    "    median = np.median(a) \n",
    "    print(\"Median = \", median)\n"
   ]
  },
  {
   "cell_type": "code",
   "execution_count": 7,
   "id": "4c7c298b",
   "metadata": {},
   "outputs": [],
   "source": [
    "def mode(mode):\n",
    "    mode = stats.mode(a)\n",
    "    print(\"Mode = \", mode)\n"
   ]
  },
  {
   "cell_type": "code",
   "execution_count": 8,
   "id": "9d81c49a",
   "metadata": {},
   "outputs": [],
   "source": [
    "def variance(var):\n",
    "     print(\"Var = \", (statistics.variance(a)))"
   ]
  },
  {
   "cell_type": "code",
   "execution_count": 9,
   "id": "2be16800",
   "metadata": {},
   "outputs": [],
   "source": [
    "def std_Deviation(std):\n",
    "    print(\"Std = \", (statistics.stdev(a)))\n"
   ]
  },
  {
   "cell_type": "code",
   "execution_count": 10,
   "id": "0b584ba8",
   "metadata": {
    "scrolled": true
   },
   "outputs": [
    {
     "name": "stdout",
     "output_type": "stream",
     "text": [
      "mean =  69.36111111111111\n",
      "Median =  69.0\n",
      "Mode =  ModeResult(mode=array([78], dtype=int64), count=array([7]))\n",
      "Var =  878.600713842334\n",
      "Std =  29.641199601944823\n"
     ]
    }
   ],
   "source": [
    "mean(a)\n",
    "median(a)\n",
    "mode(a)\n",
    "variance(a)\n",
    "std_Deviation(a)"
   ]
  },
  {
   "cell_type": "code",
   "execution_count": 15,
   "id": "74dc2ca5",
   "metadata": {},
   "outputs": [],
   "source": [
    "def fvar(v):\n",
    "    l=len(a)\n",
    "    mean = np.mean(a)\n",
    "    x=[]\n",
    "    for i in range(l):\n",
    "        x.append((v[i] - mean)**2)\n",
    "    x=sum(x)\n",
    "    var = x/(l-1)\n",
    "    print(\"var=\",+var)\n",
    "\n",
    "def stddv(stddv):\n",
    "    l=len(a)\n",
    "    mean = np.mean(a)\n",
    "    x=[]\n",
    "    for i in range(l):\n",
    "        x.append((stddv[i] - mean)**2)\n",
    "    x=sum(x)\n",
    "    stdv = (x/l)**0.5\n",
    "    print(\"standard_deviation=\",+stdv)"
   ]
  },
  {
   "cell_type": "code",
   "execution_count": 16,
   "id": "e7aa2131",
   "metadata": {},
   "outputs": [
    {
     "name": "stdout",
     "output_type": "stream",
     "text": [
      "var= 878.6007138423341\n",
      "standard_deviation= 29.55874826113975\n"
     ]
    }
   ],
   "source": [
    "fvar(a)\n",
    "stddv(a)"
   ]
  },
  {
   "cell_type": "code",
   "execution_count": 13,
   "id": "ffbcc269",
   "metadata": {},
   "outputs": [],
   "source": [
    "def std_var(v):\n",
    "    l=len(a)\n",
    "    mean = np.mean(a)\n",
    "    x=[]\n",
    "    for i in range(l):\n",
    "        x.append((v[i] - mean)**2)\n",
    "    x=sum(x)\n",
    "    var = x/l\n",
    "    stdv = (x/l)**0.5\n",
    "    return var,stdv\n"
   ]
  },
  {
   "cell_type": "code",
   "execution_count": 14,
   "id": "6d9748aa",
   "metadata": {},
   "outputs": [
    {
     "data": {
      "text/plain": [
       "(873.7195987654322, 29.55874826113975)"
      ]
     },
     "execution_count": 14,
     "metadata": {},
     "output_type": "execute_result"
    }
   ],
   "source": [
    "std_var(a)"
   ]
  },
  {
   "cell_type": "code",
   "execution_count": null,
   "id": "f7740b7e",
   "metadata": {},
   "outputs": [],
   "source": []
  }
 ],
 "metadata": {
  "kernelspec": {
   "display_name": "Python 3",
   "language": "python",
   "name": "python3"
  },
  "language_info": {
   "codemirror_mode": {
    "name": "ipython",
    "version": 3
   },
   "file_extension": ".py",
   "mimetype": "text/x-python",
   "name": "python",
   "nbconvert_exporter": "python",
   "pygments_lexer": "ipython3",
   "version": "3.8.8"
  }
 },
 "nbformat": 4,
 "nbformat_minor": 5
}
